{
 "cells": [
  {
   "cell_type": "code",
   "execution_count": 1,
   "metadata": {},
   "outputs": [],
   "source": [
    "import os, pickle\n",
    "\n",
    "from sklearn.metrics import f1_score\n",
    "\n",
    "from lpaaj.constants import RESULTS_DIR\n",
    "from lpaaj.data import MTBench"
   ]
  },
  {
   "cell_type": "code",
   "execution_count": 2,
   "metadata": {},
   "outputs": [],
   "source": [
    "models = os.listdir(f\"{RESULTS_DIR}/mtbench\")\n",
    "data = MTBench(task=\"compare\")"
   ]
  },
  {
   "cell_type": "code",
   "execution_count": 3,
   "metadata": {},
   "outputs": [],
   "source": [
    "config = \"supervised-last-all\"\n",
    "probe_type, probe_layer, steer_layer = config.split(\"-\")"
   ]
  },
  {
   "cell_type": "code",
   "execution_count": 4,
   "metadata": {},
   "outputs": [],
   "source": [
    "results = {}\n",
    "for probe_type in [\"supervised\", \"unsupervised\"]:\n",
    "    config = f\"{probe_type}-last-all\"\n",
    "    for model in models:\n",
    "        # baseline \n",
    "        PATH = f\"{RESULTS_DIR}/mtbench/{model}/compare.pkl\"\n",
    "        baseline = pickle.load(open(PATH, \"rb\"))\n",
    "        baseline = f1_score(baseline, data.labels, average=\"weighted\", labels=[1, 2])\n",
    "        # steering results\n",
    "        PATH = f\"{RESULTS_DIR}/mtbench/{model}/steering-{config}.pkl\"\n",
    "        steering = pickle.load(open(PATH, \"rb\"))[-1]\n",
    "        deltas = results.get(config, [])\n",
    "        deltas.append(steering - baseline)\n",
    "        results[config] = deltas"
   ]
  },
  {
   "cell_type": "code",
   "execution_count": 5,
   "metadata": {},
   "outputs": [
    {
     "data": {
      "text/plain": [
       "{'supervised-last-all': [-0.004751114516019284,\n",
       "  0.006546623059372592,\n",
       "  0.002838419958099192,\n",
       "  0.0033777055832495684,\n",
       "  0.025062968606941793],\n",
       " 'unsupervised-last-all': [-0.005331645157460763,\n",
       "  0.0065962762604181435,\n",
       "  0.0009783995513628074,\n",
       "  0.005394012585721364,\n",
       "  0.029697805736685567]}"
      ]
     },
     "execution_count": 5,
     "metadata": {},
     "output_type": "execute_result"
    }
   ],
   "source": [
    "import matplotlib.pyplot as plt\n",
    "\n",
    "\n",
    "fig, ax = plt.subplots(figsize=(13, 5))\n",
    "x_pos, xticks, xlabels, minor_xticks, minor_xticklabels = 0, [], [], [], []\n",
    "colours = {\n",
    "    \"u-probe\": \"#ff7f0e\",\n",
    "    \"s-probe\": \"#1f77b4\",\n",
    "    \"lora\": \"#2ca02c\", \n",
    "    \"sft\": \"#d62728\"\n",
    "}\n",
    "family_full = {\n",
    "    \"mistral\": \"Mistral\",\n",
    "    \"llama\": \"Llama 3.1\",\n",
    "    \"qwen\": \"Qwen 2.5\",\n",
    "    \"gemma\": \"Gemma 2\"\n",
    "}"
   ]
  }
 ],
 "metadata": {
  "kernelspec": {
   "display_name": "finetuning",
   "language": "python",
   "name": "python3"
  },
  "language_info": {
   "codemirror_mode": {
    "name": "ipython",
    "version": 3
   },
   "file_extension": ".py",
   "mimetype": "text/x-python",
   "name": "python",
   "nbconvert_exporter": "python",
   "pygments_lexer": "ipython3",
   "version": "3.10.16"
  }
 },
 "nbformat": 4,
 "nbformat_minor": 2
}
